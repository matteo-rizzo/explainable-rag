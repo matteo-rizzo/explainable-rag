{
 "cells": [
  {
   "metadata": {
    "ExecuteTime": {
     "end_time": "2025-03-17T15:04:26.809651Z",
     "start_time": "2025-03-17T15:04:26.804553Z"
    }
   },
   "cell_type": "code",
   "source": [
    "import csv\n",
    "import json\n",
    "import os"
   ],
   "id": "6cdd6e41ca064ee0",
   "outputs": [],
   "execution_count": 57
  },
  {
   "metadata": {
    "ExecuteTime": {
     "end_time": "2025-03-17T15:04:26.819459Z",
     "start_time": "2025-03-17T15:04:26.816297Z"
    }
   },
   "cell_type": "code",
   "source": [
    "BASELINE_FOLDER = \"../explanations/baseline\"\n",
    "DATASET_FOLDER = \"../dataset/manually-verified-test/source\"\n",
    "CSV_OUTPUT_FOLDER = \"logs/baseline_form\"\n",
    "\n",
    "QUESTIONNAIRE_FOLDER = \"logs/baseline_questionnaire\"\n",
    "\n",
    "os.makedirs(\"logs\", exist_ok=True)"
   ],
   "id": "cf0df716fe595197",
   "outputs": [],
   "execution_count": 58
  },
  {
   "metadata": {
    "ExecuteTime": {
     "end_time": "2025-03-17T15:04:26.833226Z",
     "start_time": "2025-03-17T15:04:26.826732Z"
    }
   },
   "cell_type": "code",
   "source": [
    "def extract_contract_data(model, groundtruth_label, contract_id):\n",
    "    \"\"\"Extract contract data from a JSON file.\"\"\"\n",
    "    contract_file = os.path.join(BASELINE_FOLDER, model, groundtruth_label, f\"{contract_id}.sol.json\")\n",
    "    source_file = os.path.join(DATASET_FOLDER, groundtruth_label, f\"{contract_id}.sol\")\n",
    "\n",
    "    contract_data = {\n",
    "        \"contract_id\": contract_id,\n",
    "        \"explanation\": \"No explanation found\",\n",
    "        \"groundtruth\": groundtruth_label,\n",
    "        \"classification\": \"Unknown\",\n",
    "        \"source_code\": \"Source code not found\",\n",
    "    }\n",
    "\n",
    "    if os.path.exists(contract_file):\n",
    "        try:\n",
    "            with open(contract_file, \"r\", encoding=\"utf-8\") as f:\n",
    "                data = json.load(f)\n",
    "                contract_data[\"explanation\"] = data.get(\"explanation\", \"No explanation found\")\n",
    "                contract_data[\"classification\"] = data.get(\"classification\", \"Unknown\").lower()\n",
    "        except Exception as e:\n",
    "            print(f\"Error reading {contract_file}: {e}\")\n",
    "\n",
    "    if os.path.exists(source_file):\n",
    "        try:\n",
    "            with open(source_file, \"r\", encoding=\"latin1\") as f:\n",
    "                contract_data[\"source_code\"] = f.read()\n",
    "        except Exception as e:\n",
    "            print(f\"Error reading {source_file}: {e}\")\n",
    "\n",
    "    return contract_data\n",
    "\n",
    "\n",
    "def explore_baseline_and_save_csv():\n",
    "    \"\"\"Explore the baseline folder and create a CSV file per model with contract details.\"\"\"\n",
    "    print(\"Exploring baseline folder and extracting contract details...\")\n",
    "    os.makedirs(CSV_OUTPUT_FOLDER, exist_ok=True)\n",
    "\n",
    "    for model in os.listdir(BASELINE_FOLDER):\n",
    "        model_path = os.path.join(BASELINE_FOLDER, model)\n",
    "        if not os.path.isdir(model_path):\n",
    "            continue\n",
    "\n",
    "        rows = []\n",
    "        for groundtruth_label in os.listdir(model_path):\n",
    "            groundtruth_path = os.path.join(model_path, groundtruth_label)\n",
    "            if not os.path.isdir(groundtruth_path):\n",
    "                continue\n",
    "\n",
    "            contract_files = [f.replace(\".sol.json\", \"\") for f in os.listdir(groundtruth_path) if\n",
    "                              f.endswith(\".sol.json\")]\n",
    "\n",
    "            for contract_id in contract_files:\n",
    "                rows.append(extract_contract_data(model, groundtruth_label, contract_id))\n",
    "\n",
    "        if rows:\n",
    "            csv_file_path = os.path.join(CSV_OUTPUT_FOLDER, f\"{model}.csv\")\n",
    "            headers = [\"contract_id\", \"explanation\", \"groundtruth\", \"classification\", \"source_code\"]\n",
    "\n",
    "            with open(csv_file_path, \"w\", newline=\"\", encoding=\"utf-8\") as f:\n",
    "                writer = csv.DictWriter(f, fieldnames=headers)\n",
    "                writer.writeheader()\n",
    "                writer.writerows(rows)\n",
    "\n",
    "            print(f\"Baseline contract data for model '{model}' saved to {csv_file_path}\")\n"
   ],
   "id": "6960bb5a380b7e1f",
   "outputs": [],
   "execution_count": 59
  },
  {
   "metadata": {
    "ExecuteTime": {
     "end_time": "2025-03-17T15:04:26.973591Z",
     "start_time": "2025-03-17T15:04:26.843856Z"
    }
   },
   "cell_type": "code",
   "source": "explore_baseline_and_save_csv()",
   "id": "9d2f0af3fc63d794",
   "outputs": [
    {
     "name": "stdout",
     "output_type": "stream",
     "text": [
      "Exploring baseline folder and extracting contract details...\n",
      "Baseline contract data for model 'gpt-4o' saved to logs/baseline/gpt-4o.csv\n",
      "Baseline contract data for model 'o3-mini' saved to logs/baseline/o3-mini.csv\n",
      "Baseline contract data for model 'gpt-4o-mini' saved to logs/baseline/gpt-4o-mini.csv\n",
      "Baseline contract data for model 'gpt-3.5-turbo' saved to logs/baseline/gpt-3.5-turbo.csv\n"
     ]
    }
   ],
   "execution_count": 60
  },
  {
   "metadata": {
    "ExecuteTime": {
     "end_time": "2025-03-17T15:04:27.057863Z",
     "start_time": "2025-03-17T15:04:27.051794Z"
    }
   },
   "cell_type": "code",
   "source": [
    "def extract_contracts_from_csv():\n",
    "    \"\"\"Read each baseline CSV and save each contract's source code into a separate file, organized by model.\"\"\"\n",
    "    os.makedirs(QUESTIONNAIRE_FOLDER, exist_ok=True)\n",
    "\n",
    "    for csv_file in os.listdir(CSV_OUTPUT_FOLDER):\n",
    "        model = csv_file.split(\".\")[0]\n",
    "        model_output_folder = os.path.join(QUESTIONNAIRE_FOLDER, model)\n",
    "        os.makedirs(model_output_folder, exist_ok=True)\n",
    "\n",
    "        csv_path = os.path.join(CSV_OUTPUT_FOLDER, csv_file)\n",
    "\n",
    "        with open(csv_path, \"r\", encoding=\"utf-8\") as f:\n",
    "            reader = csv.reader(f)\n",
    "            headers = next(reader)  # Read the header row\n",
    "            contract_id_index = headers.index(\"contract_id\")\n",
    "            source_code_index = headers.index(\"source_code\")\n",
    "\n",
    "            for index, row in enumerate(reader, start=1):\n",
    "                contract_id = row[contract_id_index]\n",
    "                source_code = row[source_code_index]\n",
    "\n",
    "                if source_code.strip():  # Skip empty source code\n",
    "                    filename = os.path.join(model_output_folder, f\"question_{index}_{contract_id}.sol\")\n",
    "                    with open(filename, \"w\", encoding=\"latin1\") as contract_file:\n",
    "                        contract_file.write(source_code)\n",
    "\n",
    "    print(f\"Extracted contract source codes saved in {QUESTIONNAIRE_FOLDER}/\")"
   ],
   "id": "9565420c8980994f",
   "outputs": [],
   "execution_count": 61
  },
  {
   "metadata": {
    "ExecuteTime": {
     "end_time": "2025-03-17T15:04:27.161767Z",
     "start_time": "2025-03-17T15:04:27.081395Z"
    }
   },
   "cell_type": "code",
   "source": "extract_contracts_from_csv()",
   "id": "f4d206330deb7c9d",
   "outputs": [
    {
     "name": "stdout",
     "output_type": "stream",
     "text": [
      "Extracted contract source codes saved in logs/baseline_questionnaire/\n"
     ]
    }
   ],
   "execution_count": 62
  }
 ],
 "metadata": {
  "kernelspec": {
   "display_name": "Python 3",
   "language": "python",
   "name": "python3"
  },
  "language_info": {
   "codemirror_mode": {
    "name": "ipython",
    "version": 2
   },
   "file_extension": ".py",
   "mimetype": "text/x-python",
   "name": "python",
   "nbconvert_exporter": "python",
   "pygments_lexer": "ipython2",
   "version": "2.7.6"
  }
 },
 "nbformat": 4,
 "nbformat_minor": 5
}
