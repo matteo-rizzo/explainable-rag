{
 "cells": [
  {
   "metadata": {
    "ExecuteTime": {
     "end_time": "2025-02-28T16:28:52.920058Z",
     "start_time": "2025-02-28T16:28:52.905557Z"
    }
   },
   "cell_type": "code",
   "source": [
    "import json\n",
    "import logging\n",
    "import os\n",
    "from concurrent.futures import ThreadPoolExecutor, as_completed\n",
    "\n",
    "from sklearn.metrics import accuracy_score, precision_score, recall_score, f1_score\n",
    "from tqdm import tqdm\n",
    "\n",
    "logger = logging.getLogger(__name__)\n",
    "logging.basicConfig(level=logging.INFO, format=\"%(levelname)s: %(message)s\")"
   ],
   "id": "13611561371d75dd",
   "outputs": [],
   "execution_count": 4
  },
  {
   "cell_type": "code",
   "id": "initial_id",
   "metadata": {
    "collapsed": true,
    "ExecuteTime": {
     "end_time": "2025-02-28T16:28:53.304758Z",
     "start_time": "2025-02-28T16:28:53.300139Z"
    }
   },
   "source": [
    "def compute_accuracy(path_to_log, gt_category):\n",
    "    \"\"\"\n",
    "    Calculates the classification accuracy for a specific subdirectory.\n",
    "\n",
    "    :param path_to_log: Path to the directory containing JSON log files.\n",
    "    :param gt_category: The ground truth category for comparison.\n",
    "    :return: Tuple (accuracy_score, total_files)\n",
    "    \"\"\"\n",
    "    try:\n",
    "        files = [f for f in os.listdir(path_to_log) if f.endswith(\".json\")]\n",
    "        total_files = len(files)\n",
    "\n",
    "        if total_files == 0:\n",
    "            logger.warning(f\"No JSON files found in '{path_to_log}'.\")\n",
    "            return 0.0, 0\n",
    "\n",
    "        correct_files = 0\n",
    "        gt_category = gt_category.lower()\n",
    "\n",
    "        for filename in files:\n",
    "            file_path = os.path.join(path_to_log, filename)\n",
    "            try:\n",
    "                with open(file_path, \"r\", encoding=\"utf-8\") as file:\n",
    "                    content = json.load(file)\n",
    "                    classification = content.get(\"classification\", \"\").lower()\n",
    "\n",
    "                    if classification == gt_category:\n",
    "                        correct_files += 1\n",
    "\n",
    "            except (json.JSONDecodeError, KeyError) as e:\n",
    "                logger.error(f\"Error processing {filename}: {e}\")\n",
    "\n",
    "        accuracy_score = correct_files / total_files\n",
    "        logger.info(\n",
    "            f\"Accuracy for '{gt_category}' in '{path_to_log}': {accuracy_score:.2%} ({correct_files}/{total_files})\")\n",
    "        return accuracy_score, total_files\n",
    "\n",
    "    except Exception as e:\n",
    "        logger.error(f\"An error occurred: {e}\")\n",
    "        return 0.0, 0"
   ],
   "outputs": [],
   "execution_count": 5
  },
  {
   "metadata": {
    "ExecuteTime": {
     "end_time": "2025-02-28T16:29:42.764557Z",
     "start_time": "2025-02-28T16:29:42.730685Z"
    }
   },
   "cell_type": "code",
   "source": [
    "# Root directory containing the two subdirectories\n",
    "root_dir = \"../explanations/baseline_o3mini\"\n",
    "\n",
    "# Compute accuracy for 'reentrant' and 'safe' subdirectories\n",
    "path_reentrant = os.path.join(root_dir, \"reentrant\")\n",
    "path_safe = os.path.join(root_dir, \"safe\")\n",
    "\n",
    "acc_reentrant, total_reentrant = compute_accuracy(path_reentrant, gt_category=\"reentrant\")\n",
    "acc_safe, total_safe = compute_accuracy(path_safe, gt_category=\"safe\")\n",
    "\n",
    "# Compute overall accuracy\n",
    "total_all = total_reentrant + total_safe\n",
    "correct_all = (acc_reentrant * total_reentrant) + (acc_safe * total_safe)\n",
    "\n",
    "if total_all > 0:\n",
    "    overall_accuracy = correct_all / total_all\n",
    "    logger.info(f\"Overall Accuracy: {overall_accuracy:.2%} ({int(correct_all)}/{total_all})\")\n",
    "else:\n",
    "    overall_accuracy = 0.0\n",
    "    logger.warning(\"No JSON files found in either subdirectory.\")\n",
    "\n",
    "# Print results\n",
    "logger.info(f\"Reentrant Accuracy: {acc_reentrant:.2%}\")\n",
    "logger.info(f\"Safe Accuracy: {acc_safe:.2%}\")\n",
    "logger.info(f\"Overall Accuracy: {overall_accuracy:.2%}\")"
   ],
   "id": "a7112673a3f47e9a",
   "outputs": [
    {
     "name": "stderr",
     "output_type": "stream",
     "text": [
      "INFO: Accuracy for 'reentrant' in '../explanations/baseline_o3mini/reentrant': 87.67% (64/73)\n",
      "INFO: Accuracy for 'safe' in '../explanations/baseline_o3mini/safe': 95.89% (70/73)\n",
      "INFO: Overall Accuracy: 91.78% (134/146)\n",
      "INFO: Reentrant Accuracy: 87.67%\n",
      "INFO: Safe Accuracy: 95.89%\n",
      "INFO: Overall Accuracy: 91.78%\n"
     ]
    }
   ],
   "execution_count": 7
  },
  {
   "metadata": {},
   "cell_type": "code",
   "source": [
    "def load_json(file_path):\n",
    "    \"\"\"Load a JSON file and return its contents.\"\"\"\n",
    "    logger.debug(f\"Loading JSON file: {file_path}\")\n",
    "    try:\n",
    "        with open(file_path, 'r') as f:\n",
    "            return json.load(f)\n",
    "    except Exception as e:\n",
    "        logger.error(f\"Error loading JSON file {file_path}: {e}\")\n",
    "        return None\n",
    "\n",
    "\n",
    "def get_ground_truth_from_path(contract_path):\n",
    "    \"\"\"Determine the ground truth label based on the parent folder name.\"\"\"\n",
    "    label = \"reentrant\" if \"reentrant\" in contract_path else \"safe\" if \"safe\" in contract_path else None\n",
    "    return label\n",
    "\n",
    "\n",
    "def collect_predictions(contract_dir):\n",
    "    \"\"\"Collect labels from JSON files (excluding classification.json).\"\"\"\n",
    "    predictions = []\n",
    "    files = [f for f in os.listdir(contract_dir) if f.endswith(\".json\") and f != \"classification.json\"]\n",
    "\n",
    "    with ThreadPoolExecutor() as executor:\n",
    "        future_to_file = {executor.submit(load_json, os.path.join(contract_dir, file)): file for file in files}\n",
    "        for future in as_completed(future_to_file):\n",
    "            data = future.result()\n",
    "            if data and \"label\" in data:\n",
    "                predictions.append(data[\"label\"])\n",
    "\n",
    "    return predictions\n",
    "\n",
    "\n",
    "def process_contract(root):\n",
    "    \"\"\"Process a single contract directory.\"\"\"\n",
    "    ground_truth = get_ground_truth_from_path(root)\n",
    "    classification_file = os.path.join(root, \"classification.json\")\n",
    "\n",
    "    y_true_class, y_pred_class = None, None\n",
    "    y_true_anal, y_pred_anal = [], []\n",
    "\n",
    "    if os.path.exists(classification_file):\n",
    "        classification_data = load_json(classification_file)\n",
    "        contract_label = classification_data.get(\"classification\", \"\").lower()\n",
    "\n",
    "        if contract_label:\n",
    "            y_true_class, y_pred_class = ground_truth, contract_label\n",
    "\n",
    "        predictions = collect_predictions(root)\n",
    "        y_true_anal = [ground_truth] * len(predictions)\n",
    "        y_pred_anal = predictions\n",
    "\n",
    "    return y_true_class, y_pred_class, y_true_anal, y_pred_anal\n",
    "\n",
    "\n",
    "def evaluate(base_dir):\n",
    "    \"\"\"Compute accuracy, precision, recall, and F1-score for contract classification using parallel processing.\"\"\"\n",
    "    logger.info(f\"Starting evaluation on base directory: {base_dir}\")\n",
    "\n",
    "    contract_paths = [os.path.join(root) for root, _, _ in os.walk(base_dir) if\n",
    "                      any(sub in root for sub in [\"reentrant\", \"safe\"])]\n",
    "\n",
    "    y_true_analysis, y_pred_analysis = [], []\n",
    "    y_true_classification, y_pred_classification = [], []\n",
    "\n",
    "    with ThreadPoolExecutor() as executor:\n",
    "        futures = {executor.submit(process_contract, root): root for root in contract_paths}\n",
    "        for future in tqdm(as_completed(futures), total=len(futures), desc=\"Processing contracts\"):\n",
    "            y_true_class, y_pred_class, y_true_anal, y_pred_anal = future.result()\n",
    "            if y_true_class is not None:\n",
    "                y_true_classification.append(y_true_class)\n",
    "                y_pred_classification.append(y_pred_class)\n",
    "            y_true_analysis.extend(y_true_anal)\n",
    "            y_pred_analysis.extend(y_pred_anal)\n",
    "\n",
    "    # Compute metrics\n",
    "    def compute_metrics(y_true, y_pred, metric_name):\n",
    "        if not y_true:\n",
    "            logger.warning(f\"No data available for {metric_name} computation.\")\n",
    "            return 0, 0, 0, 0\n",
    "        return (\n",
    "            accuracy_score(y_true, y_pred),\n",
    "            precision_score(y_true, y_pred, pos_label=\"reentrant\", average='binary'),\n",
    "            recall_score(y_true, y_pred, pos_label=\"reentrant\", average='binary'),\n",
    "            f1_score(y_true, y_pred, pos_label=\"reentrant\", average='binary')\n",
    "        )\n",
    "\n",
    "    analysis_metrics = compute_metrics(y_true_analysis, y_pred_analysis, \"analysis\")\n",
    "    classification_metrics = compute_metrics(y_true_classification, y_pred_classification, \"classification\")\n",
    "\n",
    "    logger.info(\"Analysis Files Metrics:\")\n",
    "    logger.info(f\"Accuracy: {analysis_metrics[0]:.4f}\")\n",
    "    logger.info(f\"Precision: {analysis_metrics[1]:.4f}\")\n",
    "    logger.info(f\"Recall: {analysis_metrics[2]:.4f}\")\n",
    "    logger.info(f\"F1 Score: {analysis_metrics[3]:.4f}\")\n",
    "\n",
    "    logger.info(\"\\nClassification File Metrics:\")\n",
    "    logger.info(f\"Accuracy: {classification_metrics[0]:.4f}\")\n",
    "    logger.info(f\"Precision: {classification_metrics[1]:.4f}\")\n",
    "    logger.info(f\"Recall: {classification_metrics[2]:.4f}\")\n",
    "    logger.info(f\"F1 Score: {classification_metrics[3]:.4f}\")"
   ],
   "id": "95daa7978bbea1f2",
   "outputs": [],
   "execution_count": null
  },
  {
   "metadata": {},
   "cell_type": "code",
   "source": [
    "base_directory = \"../explanations/ast_cfg\"\n",
    "evaluate(base_directory)"
   ],
   "id": "39cfe2bbf3418a3",
   "outputs": [],
   "execution_count": null
  },
  {
   "metadata": {},
   "cell_type": "code",
   "source": [
    "base_directory = \"../explanations/ast\"\n",
    "evaluate(base_directory)"
   ],
   "id": "1f2a53a1b06da50d",
   "outputs": [],
   "execution_count": null
  },
  {
   "metadata": {},
   "cell_type": "code",
   "source": [
    "base_directory = \"../explanations/cfg\"\n",
    "evaluate(base_directory)"
   ],
   "id": "dd574e84d1f7dedc",
   "outputs": [],
   "execution_count": null
  }
 ],
 "metadata": {
  "kernelspec": {
   "display_name": "Python 3",
   "language": "python",
   "name": "python3"
  },
  "language_info": {
   "codemirror_mode": {
    "name": "ipython",
    "version": 2
   },
   "file_extension": ".py",
   "mimetype": "text/x-python",
   "name": "python",
   "nbconvert_exporter": "python",
   "pygments_lexer": "ipython2",
   "version": "2.7.6"
  }
 },
 "nbformat": 4,
 "nbformat_minor": 5
}
